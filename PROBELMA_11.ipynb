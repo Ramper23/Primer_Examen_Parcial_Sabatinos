{
  "nbformat": 4,
  "nbformat_minor": 0,
  "metadata": {
    "colab": {
      "name": "PROBELMA 11",
      "provenance": [],
      "collapsed_sections": [],
      "authorship_tag": "ABX9TyO0+epoDt+QCF08Iuvs/ymG",
      "include_colab_link": true
    },
    "kernelspec": {
      "name": "python3",
      "display_name": "Python 3"
    },
    "language_info": {
      "name": "python"
    }
  },
  "cells": [
    {
      "cell_type": "markdown",
      "metadata": {
        "id": "view-in-github",
        "colab_type": "text"
      },
      "source": [
        "<a href=\"https://colab.research.google.com/github/Ramper23/Primer_Examen_Parcial_Sabatinos/blob/main/PROBELMA_11.ipynb\" target=\"_parent\"><img src=\"https://colab.research.google.com/assets/colab-badge.svg\" alt=\"Open In Colab\"/></a>"
      ]
    },
    {
      "cell_type": "code",
      "execution_count": 20,
      "metadata": {
        "colab": {
          "base_uri": "https://localhost:8080/"
        },
        "id": "Tbhy3Cd8TWrh",
        "outputId": "44696f1f-0ebd-4671-8204-eff74b40e33b"
      },
      "outputs": [
        {
          "output_type": "stream",
          "name": "stdout",
          "text": [
            "Introduce un número:5\n",
            "la suma del numero es: 15\n"
          ]
        }
      ],
      "source": [
        "\"Jose Manuel Ramirez Perez 1992363\"\n",
        "n= int(input(\"Introduce un número:\"))\n",
        "suma = 0\n",
        "for numero in range(n):\n",
        "    suma = suma + (numero+ 1)\n",
        "  \n",
        "print (\"la suma del numero es:\",suma)"
      ]
    }
  ]
}